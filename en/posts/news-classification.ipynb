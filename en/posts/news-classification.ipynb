{
 "cells": [
  {
   "cell_type": "markdown",
   "metadata": {},
   "source": [
    "# 新闻文本分类\n",
    "\n",
    "- 学习链接：https://github.com/datawhalechina/team-learning-nlp/tree/master/NewsTextClassification\n",
    "- 比赛链接：[零基础入门NLP - 新闻文本分类 - 天池](https://tianchi.aliyun.com/competition/entrance/531810/introduction)"
   ]
  },
  {
   "cell_type": "markdown",
   "metadata": {},
   "source": [
    "## Task1\n",
    "\n",
    "https://tianchi.aliyun.com/notebook-ai/detail?spm=5176.12586969.1002.6.6406111aIKCSLV&postId=118252\n",
    "\n",
    "任务一主要是理解赛题和数据，并没实际工作量。\n",
    "\n",
    "数据下载解压之后，得到三个文件：\n",
    "\n",
    "```\n",
    "test_a.csv               211M\n",
    "test_a_sample_submit.csv 98K\n",
    "train_set.csv            840M\n",
    "```\n",
    "\n",
    "训练集和测试集都对字符进行了匿名处理，所以不用分词这一步。\n",
    "\n",
    "训练数据有 20w 条，使用 `\\t` 分隔，第一列为标签，第二列为文本。标签有 14 类，其对应关系为：\n",
    "\n",
    "```\n",
    "科技: 0\n",
    "股票: 1\n",
    "体育: 2\n",
    "娱乐: 3\n",
    "时政: 4\n",
    "社会: 5\n",
    "教育: 6\n",
    "财经: 7\n",
    "家居: 8\n",
    "游戏: 9\n",
    "房产: 10\n",
    "时尚: 11\n",
    "彩票: 12\n",
    "星座: 13\n",
    "```"
   ]
  },
  {
   "cell_type": "markdown",
   "metadata": {},
   "source": [
    "## Task2\n",
    "\n",
    "https://tianchi.aliyun.com/notebook-ai/detail?spm=5176.12586969.1002.9.6406111aIKCSLV&postId=118253\n",
    "\n",
    "任务二需要完成以下作业：\n",
    "\n",
    "1. 假设字符 3750，字符 900 和字符 648 是句子的标点符号，请分析赛题每篇新闻平均由多少个句子构成？\n",
    "2. 统计每类新闻中出现次数对多的字符"
   ]
  }
 ],
 "metadata": {
  "kernelspec": {
   "display_name": "Python 3",
   "language": "python",
   "name": "python3"
  },
  "language_info": {
   "codemirror_mode": {
    "name": "ipython",
    "version": 3
   },
   "file_extension": ".py",
   "mimetype": "text/x-python",
   "name": "python",
   "nbconvert_exporter": "python",
   "pygments_lexer": "ipython3",
   "version": "3.6.8"
  }
 },
 "nbformat": 4,
 "nbformat_minor": 2
}
